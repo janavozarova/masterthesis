{
  "nbformat": 4,
  "nbformat_minor": 0,
  "metadata": {
    "colab": {
      "name": "news2017_stats.ipynb",
      "provenance": [],
      "collapsed_sections": []
    },
    "kernelspec": {
      "name": "python3",
      "display_name": "Python 3"
    },
    "language_info": {
      "name": "python"
    }
  },
  "cells": [
    {
      "cell_type": "code",
      "metadata": {
        "id": "XwrJrbW1CGam"
      },
      "source": [
        "import re"
      ],
      "execution_count": null,
      "outputs": []
    },
    {
      "cell_type": "code",
      "metadata": {
        "id": "w6P8GQhRSv0-"
      },
      "source": [
        "######### CLEAN TXT FILES ###########"
      ],
      "execution_count": null,
      "outputs": []
    },
    {
      "cell_type": "code",
      "metadata": {
        "id": "nZDH-QgnGuMW"
      },
      "source": [
        "# clean CZ file\n",
        "\n",
        "f_read = open(\".../newstest2017_cz.txt\", \"r\")\n",
        "f_write = open(\".../newstest2017_cz_new.txt\", \"w\")\n",
        "\n",
        "for x in range(3005):\n",
        "  line = f_read.readline()\n",
        "  line_new = re.sub(r'<seg id=\"\\d*\">','', line)\n",
        "  f_write.writelines(line_new)\n",
        "\n",
        "f_read.close()\n",
        "f_write.close()\n",
        "\n",
        "f_read = open(\".../newstest2017_cz_new.txt\", \"r\")\n",
        "f_write = open(\".../newstest2017_cz_new_v2.txt\", \"w\")\n",
        "\n",
        "for x in range(3005):\n",
        "  line = f_read.readline()\n",
        "  line_new = re.sub(r'</seg>','', line)\n",
        "  f_write.writelines(line_new)\n",
        "\n",
        "f_read.close()\n",
        "f_write.close()\n"
      ],
      "execution_count": null,
      "outputs": []
    },
    {
      "cell_type": "code",
      "metadata": {
        "id": "xI9gaQIFRiL2"
      },
      "source": [
        "# clean EN file\n",
        "\n",
        "f_read = open(\".../newstest2017_en.txt\", \"r\")\n",
        "f_write = open(\".../newstest2017_en_new.txt\", \"w\")\n",
        "\n",
        "for x in range(3005):\n",
        "  line = f_read.readline()\n",
        "  line_new = re.sub(r'<seg id=\"\\d*\">','', line)\n",
        "  f_write.writelines(line_new)\n",
        "\n",
        "f_read.close()\n",
        "f_write.close()\n",
        "\n",
        "f_read = open(\".../newstest2017_en_new.txt\", \"r\")\n",
        "f_write = open(\".../newstest2017_en_new_v2.txt\", \"w\")\n",
        "\n",
        "for x in range(3005):\n",
        "  line = f_read.readline()\n",
        "  line_new = re.sub(r'</seg>','', line)\n",
        "  f_write.writelines(line_new)\n",
        "\n",
        "f_read.close()\n",
        "f_write.close()"
      ],
      "execution_count": null,
      "outputs": []
    },
    {
      "cell_type": "code",
      "metadata": {
        "id": "dd-2WCnZSkqx"
      },
      "source": [
        "# STATISTICS"
      ],
      "execution_count": null,
      "outputs": []
    },
    {
      "cell_type": "code",
      "metadata": {
        "id": "mbgBK6tJSu9e"
      },
      "source": [
        "import numpy as np\n",
        "import pandas as pd"
      ],
      "execution_count": null,
      "outputs": []
    },
    {
      "cell_type": "code",
      "metadata": {
        "colab": {
          "base_uri": "https://localhost:8080/"
        },
        "id": "UNKEmbd2Su7F",
        "outputId": "7bbf18e9-167f-4bb1-cd44-8e26cb5810c0"
      },
      "source": [
        "file = open(\".../newstest2017_cz_new_v2.txt\")\n",
        "  \n",
        "list_len_cz = []\n",
        "  \n",
        "for line in file:\n",
        "    length = len(line.split())\n",
        "    list_len_cz.append(length)\n",
        "\n",
        "file.close() \n",
        "\n",
        "print(list_len_cz)\n",
        "print(len(list_len_cz))"
      ],
      "execution_count": null,
      "outputs": [
        {
          "output_type": "stream",
          "text": [
            "[9, 15, 19, 21, 13, 34, 13, 15, 13, 17, 11, 13, 6, 16, 6, 9, 17, 12, 9, 5, 14, 15, 13, 14, 15, 23, 26, 10, 12, 16, 17, 19, 26, 29, 17, 10, 49, 13, 11, 4, 33, 14, 9, 16, 6, 12, 13, 26, 18, 19, 13, 6, 27, 31, 20, 7, 21, 10, 10, 43, 11, 24, 3, 22, 17, 5, 20, 9, 17, 7, 16, 12, 20, 26, 12, 13, 7, 20, 21, 35, 11, 2, 8, 13, 9, 10, 10, 15, 8, 8, 5, 15, 3, 17, 21, 14, 12, 15, 11, 12, 10, 6, 14, 12, 6, 10, 8, 17, 12, 22, 8, 17, 7, 13, 15, 15, 9, 4, 13, 8, 10, 21, 9, 7, 18, 9, 10, 8, 15, 16, 25, 8, 15, 8, 14, 11, 20, 10, 18, 14, 24, 25, 19, 17, 28, 17, 9, 8, 7, 7, 17, 7, 3, 12, 9, 29, 16, 22, 8, 9, 10, 5, 2, 6, 4, 4, 7, 7, 6, 15, 8, 13, 6, 26, 18, 28, 31, 8, 14, 20, 27, 7, 10, 25, 21, 5, 10, 8, 16, 4, 16, 9, 17, 11, 18, 26, 13, 12, 18, 14, 20, 10, 23, 27, 17, 9, 12, 26, 8, 5, 15, 16, 16, 17, 24, 25, 7, 11, 19, 9, 21, 5, 6, 10, 14, 9, 7, 7, 26, 17, 7, 20, 15, 12, 12, 12, 5, 18, 17, 8, 7, 24, 15, 17, 17, 17, 5, 11, 13, 11, 20, 14, 3, 19, 11, 3, 8, 8, 24, 10, 12, 15, 13, 8, 22, 10, 12, 36, 9, 20, 8, 20, 13, 8, 14, 15, 26, 17, 8, 15, 21, 10, 13, 10, 28, 23, 29, 17, 19, 24, 14, 5, 6, 24, 24, 5, 17, 19, 3, 18, 18, 7, 13, 20, 5, 16, 10, 9, 8, 11, 9, 27, 4, 12, 18, 6, 7, 20, 9, 4, 20, 8, 19, 8, 20, 12, 8, 16, 28, 19, 16, 34, 15, 21, 23, 19, 17, 31, 9, 13, 10, 15, 15, 14, 20, 13, 15, 20, 15, 24, 15, 26, 13, 13, 21, 18, 34, 20, 23, 11, 12, 13, 13, 19, 12, 15, 14, 9, 17, 19, 7, 8, 35, 10, 21, 19, 15, 24, 21, 17, 9, 16, 7, 23, 26, 21, 9, 15, 10, 10, 21, 12, 5, 26, 16, 8, 26, 22, 2, 5, 18, 11, 22, 16, 9, 4, 25, 40, 13, 7, 8, 16, 21, 13, 31, 10, 16, 13, 14, 14, 15, 10, 10, 27, 20, 24, 14, 23, 9, 8, 16, 17, 34, 7, 11, 16, 21, 14, 16, 11, 17, 11, 28, 20, 32, 19, 10, 27, 11, 8, 23, 17, 5, 11, 18, 22, 14, 21, 13, 22, 15, 16, 22, 8, 7, 30, 8, 8, 9, 13, 14, 13, 13, 17, 10, 10, 13, 5, 10, 20, 13, 5, 11, 13, 27, 8, 6, 15, 9, 6, 8, 17, 8, 16, 21, 15, 21, 12, 10, 5, 9, 7, 6, 25, 6, 3, 10, 15, 8, 18, 4, 7, 21, 20, 5, 9, 16, 11, 6, 14, 14, 6, 11, 5, 16, 15, 7, 4, 16, 11, 25, 25, 6, 9, 18, 16, 18, 15, 4, 9, 16, 15, 20, 8, 5, 27, 7, 19, 20, 33, 21, 24, 23, 12, 11, 7, 22, 11, 18, 11, 31, 27, 15, 17, 3, 27, 18, 17, 42, 17, 38, 6, 10, 20, 18, 14, 11, 21, 7, 3, 2, 29, 12, 32, 7, 8, 3, 3, 7, 3, 4, 4, 3, 5, 21, 23, 26, 26, 23, 21, 42, 23, 22, 32, 16, 21, 36, 3, 25, 21, 14, 11, 18, 37, 28, 12, 14, 21, 13, 37, 23, 23, 24, 22, 25, 18, 26, 18, 11, 9, 15, 29, 16, 9, 16, 22, 11, 2, 4, 12, 18, 9, 16, 5, 14, 6, 7, 12, 11, 9, 15, 26, 8, 17, 9, 6, 3, 6, 20, 16, 3, 5, 10, 11, 22, 27, 25, 28, 13, 10, 17, 17, 16, 16, 23, 28, 15, 16, 22, 11, 9, 6, 16, 18, 27, 15, 18, 9, 25, 14, 12, 18, 15, 10, 37, 13, 7, 21, 20, 14, 18, 12, 24, 10, 22, 17, 3, 11, 10, 7, 12, 17, 21, 18, 18, 14, 13, 8, 8, 22, 9, 10, 20, 8, 6, 17, 17, 23, 19, 7, 10, 9, 10, 3, 14, 23, 14, 7, 13, 14, 25, 46, 14, 20, 20, 22, 8, 35, 29, 14, 14, 20, 10, 5, 46, 13, 33, 27, 23, 44, 19, 21, 15, 13, 12, 31, 20, 18, 13, 34, 28, 66, 10, 26, 17, 19, 20, 21, 21, 14, 21, 18, 11, 24, 36, 37, 12, 24, 24, 27, 9, 20, 18, 23, 31, 16, 9, 23, 8, 20, 29, 15, 26, 20, 18, 19, 11, 31, 15, 41, 19, 24, 26, 11, 17, 11, 10, 14, 8, 16, 6, 11, 16, 22, 17, 16, 13, 11, 23, 14, 23, 27, 34, 17, 23, 27, 17, 13, 12, 28, 19, 24, 16, 20, 35, 20, 13, 13, 27, 18, 44, 16, 32, 27, 25, 21, 7, 1, 27, 17, 16, 9, 26, 14, 13, 7, 12, 27, 12, 15, 8, 22, 8, 12, 16, 12, 18, 24, 24, 12, 15, 13, 21, 20, 19, 21, 32, 6, 18, 15, 19, 21, 24, 29, 6, 23, 26, 20, 7, 9, 18, 24, 19, 25, 17, 32, 28, 24, 3, 11, 21, 11, 22, 35, 16, 16, 28, 25, 14, 18, 18, 33, 6, 9, 10, 11, 26, 30, 14, 5, 8, 16, 27, 20, 14, 10, 11, 34, 19, 12, 36, 12, 10, 38, 13, 22, 21, 20, 18, 14, 18, 17, 19, 11, 37, 17, 13, 12, 16, 26, 14, 9, 11, 9, 5, 12, 7, 18, 12, 11, 28, 19, 21, 19, 18, 13, 12, 22, 15, 21, 18, 8, 14, 23, 22, 22, 12, 13, 10, 18, 15, 28, 20, 12, 29, 16, 15, 34, 28, 19, 22, 16, 5, 7, 11, 17, 11, 8, 8, 22, 15, 10, 17, 26, 11, 23, 18, 21, 26, 42, 25, 18, 13, 31, 16, 17, 18, 19, 14, 8, 19, 7, 11, 20, 18, 28, 5, 6, 31, 12, 18, 8, 7, 19, 26, 20, 8, 40, 5, 45, 6, 38, 30, 44, 6, 5, 7, 20, 41, 39, 25, 4, 21, 25, 14, 21, 10, 7, 24, 11, 27, 15, 15, 9, 13, 23, 22, 15, 24, 23, 8, 8, 8, 14, 20, 14, 30, 19, 16, 13, 14, 4, 18, 7, 15, 33, 27, 27, 5, 28, 31, 40, 10, 36, 8, 14, 23, 10, 22, 48, 27, 32, 14, 26, 25, 11, 39, 11, 21, 37, 5, 6, 15, 3, 12, 16, 7, 12, 7, 5, 17, 9, 5, 1, 20, 4, 16, 14, 6, 6, 12, 15, 7, 17, 6, 13, 9, 4, 8, 8, 9, 2, 8, 9, 9, 10, 6, 10, 5, 14, 11, 18, 3, 8, 15, 3, 3, 8, 14, 22, 9, 2, 13, 20, 15, 5, 7, 4, 15, 4, 6, 12, 19, 9, 14, 7, 5, 12, 16, 27, 4, 19, 10, 10, 17, 13, 5, 3, 5, 22, 17, 6, 20, 17, 14, 22, 17, 17, 16, 13, 20, 17, 18, 15, 7, 14, 17, 10, 7, 25, 24, 8, 16, 19, 23, 5, 15, 8, 17, 7, 19, 5, 4, 2, 4, 10, 5, 12, 14, 12, 12, 6, 4, 15, 14, 7, 18, 12, 8, 9, 8, 9, 4, 15, 7, 9, 8, 5, 11, 5, 9, 13, 3, 20, 14, 15, 8, 3, 9, 10, 16, 3, 20, 7, 20, 10, 20, 4, 17, 6, 6, 16, 8, 2, 24, 20, 17, 12, 13, 17, 14, 21, 16, 4, 15, 11, 4, 15, 5, 19, 16, 16, 18, 19, 9, 27, 18, 20, 12, 9, 16, 9, 37, 12, 7, 11, 15, 16, 11, 8, 16, 5, 6, 18, 25, 39, 7, 19, 12, 7, 13, 16, 24, 26, 33, 19, 35, 9, 11, 18, 4, 14, 14, 14, 19, 12, 21, 13, 9, 26, 6, 11, 3, 11, 6, 11, 5, 7, 16, 8, 9, 6, 5, 8, 14, 7, 7, 8, 16, 6, 5, 21, 10, 6, 22, 5, 7, 5, 8, 7, 20, 9, 25, 14, 12, 5, 23, 12, 16, 8, 8, 3, 12, 17, 14, 6, 16, 15, 7, 9, 9, 15, 5, 6, 13, 7, 9, 17, 13, 8, 6, 3, 14, 4, 21, 5, 16, 13, 10, 7, 6, 18, 5, 12, 15, 6, 5, 7, 10, 9, 4, 12, 26, 12, 8, 11, 3, 4, 14, 9, 9, 8, 10, 21, 17, 7, 9, 4, 7, 2, 4, 10, 2, 11, 7, 8, 9, 7, 14, 34, 21, 4, 2, 7, 11, 12, 8, 8, 10, 15, 13, 8, 4, 3, 21, 10, 7, 13, 21, 11, 7, 16, 8, 14, 11, 17, 24, 17, 9, 13, 6, 9, 11, 11, 8, 25, 11, 14, 11, 5, 28, 23, 17, 17, 7, 8, 12, 21, 17, 13, 13, 10, 16, 15, 19, 15, 21, 6, 22, 15, 22, 9, 11, 12, 13, 18, 9, 19, 8, 17, 9, 8, 6, 27, 22, 6, 29, 10, 11, 9, 16, 21, 3, 9, 3, 16, 14, 16, 10, 9, 10, 15, 14, 22, 17, 10, 24, 14, 17, 13, 21, 7, 12, 31, 12, 13, 21, 13, 21, 7, 27, 11, 7, 15, 26, 40, 9, 19, 20, 16, 13, 6, 15, 8, 11, 13, 5, 17, 10, 17, 8, 16, 11, 10, 7, 17, 14, 10, 20, 14, 8, 8, 20, 14, 14, 24, 18, 15, 5, 14, 13, 5, 18, 8, 14, 7, 10, 9, 9, 14, 15, 5, 5, 10, 13, 12, 11, 8, 16, 23, 9, 12, 14, 9, 9, 5, 20, 6, 11, 12, 4, 10, 5, 15, 12, 9, 8, 2, 11, 8, 11, 17, 9, 10, 11, 5, 31, 10, 10, 13, 21, 18, 24, 12, 15, 22, 18, 16, 11, 6, 20, 15, 20, 9, 7, 18, 21, 13, 19, 12, 19, 14, 9, 16, 15, 16, 11, 5, 15, 22, 1, 19, 14, 11, 10, 14, 15, 18, 9, 18, 11, 15, 20, 29, 8, 31, 11, 9, 25, 4, 16, 15, 32, 22, 2, 20, 34, 8, 19, 14, 12, 7, 12, 29, 25, 18, 8, 16, 12, 19, 18, 10, 16, 3, 7, 6, 5, 16, 5, 29, 22, 4, 9, 7, 23, 9, 30, 28, 13, 30, 25, 39, 15, 13, 36, 5, 12, 3, 8, 8, 29, 17, 7, 17, 14, 19, 14, 7, 16, 5, 32, 35, 7, 11, 13, 25, 27, 19, 15, 12, 27, 49, 14, 20, 40, 6, 13, 7, 6, 7, 7, 30, 11, 3, 24, 3, 12, 25, 31, 18, 12, 16, 11, 11, 10, 23, 7, 4, 6, 11, 20, 12, 12, 6, 9, 6, 12, 11, 6, 7, 12, 26, 27, 33, 13, 13, 9, 14, 1, 12, 13, 22, 10, 13, 8, 5, 9, 4, 7, 12, 5, 10, 17, 14, 9, 6, 6, 5, 10, 9, 14, 10, 5, 7, 16, 13, 7, 16, 16, 24, 20, 19, 10, 5, 8, 11, 10, 11, 4, 24, 14, 5, 19, 8, 14, 5, 6, 5, 26, 14, 6, 9, 9, 16, 6, 10, 24, 3, 11, 8, 8, 5, 14, 4, 6, 23, 19, 8, 16, 5, 9, 8, 12, 20, 21, 32, 2, 12, 25, 5, 10, 16, 14, 14, 19, 15, 10, 12, 23, 15, 15, 9, 16, 12, 17, 15, 9, 13, 6, 8, 19, 13, 11, 6, 12, 21, 25, 18, 12, 14, 5, 18, 16, 7, 18, 9, 3, 12, 12, 21, 4, 2, 11, 5, 5, 4, 1, 10, 11, 8, 11, 12, 6, 10, 27, 6, 25, 11, 20, 9, 15, 15, 20, 17, 17, 12, 9, 46, 17, 30, 7, 6, 22, 13, 9, 11, 12, 5, 12, 26, 11, 15, 12, 14, 29, 8, 26, 7, 8, 25, 23, 48, 4, 45, 23, 5, 6, 50, 5, 14, 45, 18, 11, 5, 3, 15, 18, 30, 18, 5, 25, 12, 13, 6, 3, 6, 14, 5, 12, 10, 29, 12, 19, 14, 14, 8, 18, 8, 19, 9, 13, 19, 10, 22, 6, 33, 8, 9, 11, 14, 16, 7, 27, 5, 7, 20, 10, 16, 6, 13, 7, 11, 11, 25, 6, 4, 14, 6, 18, 15, 17, 11, 8, 5, 15, 23, 37, 19, 10, 30, 11, 9, 5, 13, 4, 7, 14, 30, 11, 20, 8, 10, 11, 7, 23, 6, 2, 15, 4, 15, 22, 27, 23, 26, 15, 5, 21, 17, 18, 16, 33, 23, 40, 7, 13, 28, 31, 18, 26, 39, 21, 24, 9, 26, 11, 5, 36, 10, 6, 18, 17, 28, 28, 8, 3, 33, 28, 9, 9, 31, 10, 19, 23, 18, 7, 6, 11, 26, 14, 12, 25, 12, 9, 14, 13, 18, 12, 11, 14, 16, 10, 12, 10, 14, 10, 12, 9, 13, 9, 26, 15, 18, 28, 16, 4, 21, 7, 14, 15, 28, 15, 25, 33, 5, 18, 4, 10, 12, 17, 14, 5, 11, 18, 30, 6, 26, 8, 30, 27, 12, 19, 14, 15, 9, 15, 21, 16, 17, 5, 22, 27, 17, 24, 15, 12, 7, 24, 13, 19, 9, 28, 26, 34, 26, 25, 15, 44, 15, 15, 32, 25, 10, 39, 41, 25, 41, 28, 9, 25, 46, 28, 22, 12, 18, 29, 23, 12, 13, 19, 32, 21, 30, 11, 20, 22, 27, 24, 32, 58, 12, 42, 15, 24, 14, 21, 36, 24, 3, 8, 32, 14, 24, 17, 26, 6, 43, 11, 14, 13, 8, 10, 4, 14, 28, 22, 9, 20, 4, 3, 19, 5, 12, 16, 20, 32, 6, 41, 16, 7, 19, 14, 14, 43, 5, 21, 19, 16, 27, 12, 22, 12, 31, 13, 14, 6, 22, 22, 18, 11, 8, 7, 4, 24, 31, 9, 22, 17, 13, 42, 7, 4, 11, 11, 4, 18, 15, 14, 10, 10, 35, 10, 28, 15, 32, 6, 17, 9, 29, 11, 5, 23, 3, 3, 17, 24, 20, 32, 18, 8, 25, 31, 11, 14, 6, 26, 5, 12, 10, 27, 7, 22, 12, 21, 9, 15, 15, 10, 9, 27, 25, 22, 13, 6, 22, 13, 20, 19, 8, 12, 38, 15, 23, 33, 14, 20, 24, 23, 13, 10, 21, 6, 27, 13, 45, 24, 27, 32, 28, 36, 25, 28, 31, 30, 29, 15, 21, 10, 24, 13, 16, 9, 29, 10, 17, 21, 5, 19, 11, 18, 8, 13, 8, 9, 4, 17, 7, 10, 10, 12, 10, 12, 10, 12, 14, 19, 12, 10, 23, 14, 23, 14, 22, 9, 8, 28, 6, 12, 10, 9, 14, 18, 5, 9, 18, 21, 22, 12, 13, 10, 30, 20, 32, 21, 17, 7, 7, 12, 10, 4, 8, 17, 18, 29, 27, 35, 7, 15, 20, 18, 10, 6, 7, 7, 30, 26, 8, 18, 16, 13, 9, 3, 20, 36, 15, 22, 19, 9, 7, 5, 23, 18, 12, 8, 4, 8, 13, 6, 11, 8, 8, 16, 20, 19, 35, 52, 25, 27, 27, 12, 29, 17, 21, 14, 15, 41, 58, 21, 11, 21, 21, 17, 23, 16, 20, 44, 25, 12, 21, 38, 9, 29, 6, 25, 16, 10, 34, 22, 22, 7, 10, 24, 50, 9, 11, 44, 13, 10, 23, 14, 10, 10, 22, 34, 23, 16, 14, 17, 2, 14, 11, 8, 14, 8, 20, 14, 6, 7, 18, 4, 7, 10, 13, 23, 19, 18, 9, 11, 25, 9, 22, 13, 24, 17, 28, 12, 23, 24, 15, 15, 32, 15, 14, 13, 12, 17, 16, 17, 15, 20, 12, 28, 33, 16, 23, 13, 6, 16, 11, 29, 8, 16, 25, 21, 10, 13, 11, 4, 8, 21, 12, 9, 15, 10, 13, 20, 19, 21, 53, 4, 15, 9, 5, 4, 10, 13, 14, 21, 4, 11, 18, 14, 27, 20, 19, 32, 29, 11, 45, 24, 7, 12, 13, 18, 15, 11, 25, 30, 21, 22, 16, 13, 17, 25, 23, 21, 32, 25, 29, 19, 9, 14, 21, 25, 18, 54, 46, 17, 29, 9, 32, 27, 17, 19, 23, 27, 26, 10, 20, 8, 14, 20, 16, 6, 7, 7, 4, 7, 14, 10, 20, 9, 36, 45, 15, 15, 30, 13, 22, 41, 31, 27, 17, 24, 13, 34, 23, 20, 21, 25, 10, 49, 15, 24, 12, 7, 15, 13, 10, 21, 9, 19, 32, 10, 17, 25, 23, 18, 16, 15, 19, 33, 48, 14, 21, 28, 15, 13, 31, 47, 25, 9, 44, 24, 27, 22, 24, 15, 25, 22, 18, 22, 5, 6, 24, 16, 20, 19, 3, 27, 21, 13, 4, 6, 16, 31, 29, 15, 29, 29, 2, 6, 20, 9, 16, 8, 20, 14, 29, 31, 12, 14, 6, 22, 17, 28, 6, 18, 13, 34, 17, 27, 19, 21, 21, 45, 30, 7, 16, 4, 4, 4, 6, 11, 9, 7, 5, 6, 14, 13, 16, 7, 9, 19, 18, 16, 6, 7, 16, 5, 16, 16, 18, 7, 8, 3, 19, 6, 6, 13, 24, 4, 12, 10, 7, 9, 9, 17, 11, 2, 8, 30, 19, 14, 6, 19, 7, 5, 15, 10, 20, 5, 14, 9, 11, 3, 25, 12, 7, 22, 13, 10, 9, 14, 13, 20, 16, 4, 12, 5, 20, 8, 6, 10, 8, 10, 26, 26, 14, 21, 7, 32, 11, 28, 25, 19, 12, 22, 11, 22, 14, 9, 28, 17, 25, 22, 20, 14, 7, 13, 9, 15, 18, 33, 21, 21, 12, 28, 23, 24, 22, 27, 24, 13, 14, 42, 19, 31, 11, 20, 29, 7, 19, 22, 43, 9, 16, 4, 13, 14, 12, 20, 15, 12, 24, 18, 19, 28, 22, 4, 21, 11, 40, 12, 4, 12, 30, 30, 41, 19, 11, 11, 31, 27, 14, 44, 14, 8, 30, 34, 29, 16, 17, 21, 15, 17, 21, 23, 16, 24, 11, 15, 15, 27, 22, 10]\n",
            "3005\n"
          ],
          "name": "stdout"
        }
      ]
    },
    {
      "cell_type": "code",
      "metadata": {
        "colab": {
          "base_uri": "https://localhost:8080/"
        },
        "id": "FrOawHGxSu43",
        "outputId": "c5c4a550-3371-47c1-b6fb-1e2b17adb752"
      },
      "source": [
        "cz_min = min(list_len_cz)\n",
        "cz_max = max(list_len_cz)\n",
        "cz_mean = np.mean(list_len_cz)\n",
        "cz_median = np.median(list_len_cz)\n",
        "\n",
        "print(len(list_len_cz))\n",
        "print(cz_min, cz_max, cz_mean, cz_median)"
      ],
      "execution_count": null,
      "outputs": [
        {
          "output_type": "stream",
          "text": [
            "3005\n",
            "1 66 15.624292845257903 14.0\n"
          ],
          "name": "stdout"
        }
      ]
    },
    {
      "cell_type": "code",
      "metadata": {
        "colab": {
          "base_uri": "https://localhost:8080/",
          "height": 295
        },
        "id": "EJkjG6spSu2t",
        "outputId": "8580be76-1c2a-4151-cc41-802aa7c754bc"
      },
      "source": [
        "import matplotlib.pyplot as plt\n",
        " \n",
        "plt.hist(list_len_cz, bins=20)\n",
        "plt.title(\"Plotted sentence length of Czech sentences (test set)\")\n",
        "plt.xlabel('Number of words')\n",
        "plt.ylabel('Number of sentences')\n",
        "plt.savefig('.../testset_cz_histogram.pdf')\n",
        "plt.show()"
      ],
      "execution_count": null,
      "outputs": [
        {
          "output_type": "display_data",
          "data": {
            "image/png": "[encoded data removed]",
            "text/plain": [
              "<Figure size 432x288 with 1 Axes>"
            ]
          },
          "metadata": {
            "tags": [],
            "needs_background": "light"
          }
        }
      ]
    },
    {
      "cell_type": "code",
      "metadata": {
        "colab": {
          "base_uri": "https://localhost:8080/"
        },
        "id": "Vkk2Xr99Su0X",
        "outputId": "56eda883-4759-4c2f-a3e7-704f68894e85"
      },
      "source": [
        "file = open(\".../newstest2017_en_new_v2.txt\")\n",
        "  \n",
        "list_len = []\n",
        "  \n",
        "# loop over lines in a file\n",
        "for line in file:\n",
        "    length = len(line.split())\n",
        "    list_len.append(length)\n",
        "\n",
        "file.close() \n",
        "\n",
        "print(list_len)\n",
        "print(len(list_len))"
      ],
      "execution_count": null,
      "outputs": [
        {
          "output_type": "stream",
          "text": [
            "[8, 22, 24, 25, 17, 38, 15, 21, 14, 17, 13, 17, 9, 19, 10, 9, 24, 13, 12, 10, 22, 20, 13, 16, 17, 28, 25, 12, 12, 17, 22, 23, 29, 33, 30, 13, 51, 18, 17, 6, 39, 19, 12, 16, 9, 16, 20, 31, 21, 28, 14, 15, 38, 34, 23, 7, 33, 16, 17, 55, 15, 26, 10, 23, 18, 7, 23, 11, 25, 15, 17, 23, 18, 38, 12, 21, 10, 32, 23, 50, 16, 7, 13, 14, 12, 14, 11, 14, 8, 12, 11, 21, 5, 22, 26, 22, 15, 21, 17, 18, 12, 10, 15, 21, 8, 13, 16, 20, 10, 32, 8, 23, 14, 18, 20, 17, 14, 10, 14, 11, 14, 25, 14, 6, 20, 17, 13, 10, 24, 18, 25, 11, 14, 11, 24, 14, 22, 14, 19, 16, 23, 29, 24, 17, 27, 23, 11, 9, 9, 13, 25, 9, 8, 16, 23, 30, 25, 32, 15, 15, 15, 7, 2, 6, 6, 5, 12, 8, 7, 16, 10, 16, 7, 27, 19, 26, 29, 13, 16, 22, 29, 9, 15, 23, 27, 6, 20, 6, 23, 6, 22, 12, 25, 11, 22, 26, 19, 20, 19, 15, 21, 16, 26, 29, 14, 11, 14, 25, 7, 9, 20, 18, 23, 18, 35, 27, 8, 16, 27, 15, 23, 9, 13, 16, 21, 12, 8, 10, 34, 23, 14, 23, 15, 12, 15, 14, 5, 22, 19, 10, 8, 32, 23, 22, 20, 17, 6, 12, 14, 10, 27, 13, 5, 25, 11, 6, 11, 9, 27, 16, 14, 15, 20, 10, 27, 17, 18, 44, 16, 18, 6, 31, 19, 13, 24, 19, 30, 27, 8, 21, 25, 12, 17, 13, 35, 30, 34, 25, 25, 28, 17, 7, 8, 27, 29, 5, 18, 20, 3, 18, 18, 7, 15, 29, 7, 12, 10, 8, 8, 11, 13, 30, 4, 14, 17, 7, 10, 24, 10, 6, 25, 7, 17, 9, 20, 14, 10, 17, 39, 21, 16, 37, 13, 22, 27, 17, 14, 38, 10, 18, 10, 16, 18, 14, 21, 16, 15, 20, 17, 23, 13, 34, 13, 13, 25, 28, 34, 27, 23, 15, 11, 13, 12, 23, 14, 14, 12, 10, 19, 19, 5, 12, 31, 8, 27, 21, 20, 24, 21, 18, 10, 20, 6, 24, 28, 28, 8, 13, 14, 14, 28, 13, 7, 26, 14, 12, 29, 26, 4, 8, 22, 15, 25, 18, 11, 3, 28, 44, 17, 9, 11, 22, 26, 19, 28, 12, 14, 9, 18, 17, 17, 10, 10, 37, 22, 26, 16, 30, 13, 7, 18, 14, 30, 7, 12, 19, 23, 14, 14, 12, 22, 16, 29, 29, 40, 21, 11, 33, 12, 12, 23, 18, 6, 10, 17, 22, 16, 18, 18, 28, 16, 18, 23, 7, 11, 44, 12, 5, 9, 14, 19, 17, 14, 24, 14, 15, 16, 7, 12, 29, 16, 9, 15, 15, 40, 11, 9, 30, 10, 6, 14, 18, 13, 21, 24, 17, 23, 11, 11, 7, 7, 11, 4, 27, 9, 7, 11, 16, 7, 22, 5, 9, 31, 23, 8, 10, 18, 13, 8, 15, 17, 7, 13, 5, 21, 22, 11, 5, 23, 14, 24, 35, 4, 7, 20, 22, 18, 15, 6, 9, 16, 18, 13, 11, 6, 32, 8, 23, 24, 33, 24, 24, 26, 15, 9, 9, 32, 12, 15, 16, 38, 29, 15, 15, 5, 31, 19, 23, 47, 19, 37, 8, 12, 20, 15, 16, 10, 12, 8, 2, 4, 23, 12, 36, 6, 8, 3, 3, 8, 3, 3, 3, 3, 6, 29, 22, 28, 28, 18, 22, 46, 28, 23, 35, 23, 18, 37, 4, 31, 25, 13, 17, 19, 38, 25, 13, 20, 17, 14, 41, 25, 28, 32, 22, 23, 20, 25, 22, 10, 10, 19, 34, 18, 8, 13, 24, 13, 4, 6, 16, 19, 10, 13, 8, 15, 6, 8, 10, 13, 9, 18, 23, 6, 16, 9, 7, 4, 6, 21, 15, 3, 8, 11, 8, 27, 24, 25, 25, 11, 13, 19, 17, 24, 16, 24, 25, 15, 14, 21, 9, 11, 6, 19, 18, 26, 17, 16, 11, 27, 13, 12, 16, 20, 15, 36, 14, 10, 16, 19, 17, 18, 9, 22, 11, 26, 19, 5, 15, 9, 12, 10, 11, 23, 22, 23, 12, 13, 9, 12, 25, 10, 12, 27, 11, 7, 16, 18, 25, 23, 6, 16, 13, 9, 3, 12, 28, 17, 6, 21, 18, 27, 49, 16, 22, 23, 24, 8, 29, 31, 18, 13, 21, 10, 6, 43, 12, 39, 29, 25, 43, 26, 26, 17, 14, 18, 35, 21, 18, 18, 30, 35, 73, 9, 23, 14, 21, 23, 25, 25, 19, 20, 22, 15, 23, 31, 47, 16, 30, 28, 33, 9, 17, 26, 26, 34, 17, 11, 24, 10, 22, 32, 19, 25, 23, 23, 20, 11, 33, 21, 40, 23, 23, 26, 11, 17, 15, 11, 14, 10, 20, 9, 17, 15, 21, 19, 20, 13, 14, 31, 12, 27, 30, 35, 24, 29, 28, 29, 16, 11, 35, 22, 24, 16, 22, 40, 19, 16, 17, 28, 16, 44, 12, 25, 31, 29, 25, 10, 3, 31, 18, 18, 10, 25, 15, 15, 8, 17, 27, 11, 18, 12, 19, 11, 17, 18, 17, 20, 26, 27, 14, 12, 16, 25, 23, 21, 22, 33, 9, 28, 18, 23, 24, 24, 32, 6, 25, 29, 21, 10, 10, 20, 25, 21, 27, 20, 38, 32, 31, 2, 10, 25, 13, 27, 39, 20, 22, 29, 25, 16, 22, 18, 39, 8, 12, 11, 10, 27, 31, 20, 6, 11, 15, 29, 21, 17, 15, 12, 39, 26, 13, 43, 14, 12, 43, 11, 21, 25, 20, 24, 17, 15, 22, 22, 9, 42, 16, 17, 18, 14, 26, 17, 7, 13, 12, 5, 15, 10, 17, 17, 15, 35, 23, 30, 24, 24, 18, 16, 22, 17, 22, 20, 13, 15, 23, 23, 24, 14, 12, 11, 16, 19, 22, 32, 10, 36, 21, 23, 40, 31, 20, 28, 22, 10, 12, 18, 33, 14, 7, 11, 26, 21, 18, 17, 32, 8, 20, 17, 25, 26, 44, 24, 18, 13, 29, 14, 21, 20, 22, 18, 17, 18, 7, 10, 16, 23, 22, 5, 7, 37, 17, 18, 7, 5, 21, 30, 19, 12, 39, 5, 47, 5, 39, 37, 50, 6, 6, 7, 19, 47, 34, 27, 3, 20, 29, 16, 21, 12, 9, 23, 16, 29, 20, 15, 8, 14, 25, 24, 23, 25, 30, 9, 9, 10, 14, 19, 14, 38, 22, 19, 9, 14, 4, 26, 10, 18, 36, 36, 24, 5, 33, 33, 39, 11, 40, 9, 15, 29, 11, 28, 55, 29, 36, 17, 27, 25, 12, 45, 13, 24, 37, 7, 7, 23, 5, 9, 20, 12, 16, 10, 5, 23, 18, 6, 2, 25, 6, 18, 18, 7, 6, 14, 25, 11, 20, 4, 17, 13, 6, 15, 15, 16, 15, 13, 11, 11, 15, 9, 12, 9, 22, 14, 25, 8, 14, 23, 8, 5, 9, 30, 30, 12, 5, 18, 29, 16, 10, 12, 6, 23, 7, 7, 19, 20, 12, 25, 11, 7, 14, 18, 30, 8, 23, 13, 12, 24, 24, 5, 4, 7, 30, 21, 12, 24, 13, 17, 33, 17, 22, 16, 17, 23, 25, 23, 17, 14, 16, 29, 13, 14, 21, 22, 10, 18, 17, 25, 6, 20, 8, 18, 9, 16, 7, 5, 3, 8, 17, 11, 15, 23, 13, 22, 8, 7, 18, 9, 7, 18, 16, 10, 9, 12, 12, 5, 17, 12, 11, 10, 7, 17, 10, 14, 20, 3, 33, 13, 18, 11, 4, 10, 16, 20, 3, 22, 7, 21, 13, 21, 7, 12, 5, 8, 18, 12, 4, 25, 22, 18, 19, 19, 23, 22, 17, 26, 9, 21, 21, 7, 18, 4, 19, 16, 25, 23, 22, 10, 31, 22, 28, 19, 12, 21, 12, 31, 18, 11, 15, 16, 15, 14, 17, 21, 5, 7, 27, 36, 41, 7, 22, 22, 12, 20, 16, 32, 32, 76, 25, 42, 10, 10, 21, 6, 16, 12, 25, 20, 16, 27, 22, 11, 34, 10, 14, 4, 9, 6, 12, 7, 7, 17, 10, 7, 9, 7, 8, 14, 7, 10, 10, 17, 4, 7, 29, 9, 4, 23, 8, 10, 9, 8, 7, 21, 13, 27, 16, 12, 6, 29, 17, 16, 8, 13, 5, 14, 22, 19, 8, 17, 12, 9, 8, 13, 18, 8, 9, 18, 6, 12, 21, 14, 7, 6, 6, 15, 7, 20, 8, 15, 9, 17, 8, 8, 16, 5, 9, 14, 7, 10, 11, 14, 13, 3, 15, 31, 14, 7, 11, 5, 7, 15, 12, 11, 8, 11, 25, 20, 11, 10, 6, 6, 3, 8, 16, 6, 10, 8, 13, 11, 7, 12, 29, 20, 7, 3, 8, 13, 8, 8, 8, 12, 19, 16, 11, 6, 7, 30, 12, 11, 16, 29, 12, 9, 20, 12, 23, 14, 17, 27, 24, 14, 20, 9, 11, 12, 15, 14, 29, 12, 18, 11, 8, 50, 23, 16, 24, 7, 9, 14, 25, 20, 17, 19, 14, 26, 13, 23, 20, 18, 9, 26, 32, 18, 13, 15, 10, 16, 19, 11, 24, 15, 25, 12, 9, 14, 38, 34, 15, 33, 12, 13, 18, 19, 30, 4, 9, 4, 30, 19, 28, 19, 13, 14, 23, 19, 23, 25, 16, 31, 21, 31, 20, 31, 10, 19, 39, 13, 17, 29, 13, 34, 11, 34, 17, 10, 21, 36, 35, 12, 24, 24, 19, 15, 8, 16, 11, 13, 20, 8, 19, 19, 22, 10, 19, 12, 14, 11, 34, 21, 12, 27, 15, 12, 11, 25, 18, 19, 29, 19, 17, 9, 16, 15, 6, 21, 10, 18, 13, 15, 14, 11, 18, 20, 5, 6, 15, 13, 14, 15, 7, 23, 32, 8, 7, 15, 11, 9, 8, 25, 8, 9, 14, 7, 10, 7, 18, 11, 14, 14, 7, 16, 8, 15, 16, 10, 15, 14, 7, 34, 10, 6, 11, 25, 24, 34, 21, 26, 26, 23, 19, 13, 8, 28, 25, 15, 11, 9, 19, 30, 23, 20, 21, 21, 15, 10, 19, 13, 15, 11, 8, 18, 29, 1, 23, 16, 13, 14, 22, 27, 26, 9, 26, 13, 17, 22, 43, 8, 27, 13, 13, 31, 7, 15, 19, 36, 40, 2, 22, 36, 8, 15, 14, 17, 4, 13, 30, 28, 25, 10, 23, 15, 19, 21, 14, 24, 7, 9, 5, 6, 28, 6, 30, 24, 6, 11, 9, 21, 12, 33, 36, 14, 39, 26, 43, 24, 16, 38, 7, 13, 5, 9, 9, 32, 17, 8, 19, 18, 21, 17, 8, 18, 7, 32, 40, 10, 17, 13, 30, 29, 22, 13, 16, 29, 51, 14, 24, 48, 8, 17, 6, 8, 6, 6, 38, 12, 4, 27, 5, 13, 31, 34, 20, 11, 19, 15, 12, 12, 25, 7, 11, 8, 17, 26, 10, 15, 9, 10, 7, 15, 10, 6, 7, 13, 43, 29, 31, 13, 9, 10, 14, 1, 23, 19, 25, 12, 19, 12, 7, 11, 3, 11, 7, 6, 20, 17, 21, 11, 8, 9, 10, 13, 15, 15, 15, 9, 7, 19, 18, 9, 19, 26, 34, 24, 43, 11, 7, 13, 12, 10, 12, 7, 36, 15, 6, 28, 13, 12, 8, 9, 8, 37, 22, 9, 10, 10, 18, 15, 11, 28, 1, 16, 12, 13, 9, 17, 4, 10, 19, 15, 5, 22, 6, 9, 11, 16, 20, 24, 31, 3, 18, 30, 5, 11, 19, 20, 19, 26, 17, 12, 12, 22, 17, 18, 15, 21, 17, 9, 18, 12, 15, 11, 10, 14, 14, 16, 9, 24, 33, 33, 22, 17, 15, 11, 22, 30, 8, 20, 15, 4, 11, 12, 25, 5, 1, 11, 8, 5, 9, 3, 12, 16, 9, 12, 9, 6, 13, 25, 7, 29, 13, 25, 16, 13, 18, 23, 18, 21, 19, 13, 56, 21, 36, 10, 8, 24, 12, 12, 14, 20, 8, 13, 35, 15, 19, 16, 22, 38, 16, 32, 8, 10, 31, 31, 48, 5, 55, 28, 6, 8, 58, 11, 16, 57, 28, 22, 6, 5, 19, 22, 33, 22, 6, 39, 14, 18, 11, 8, 10, 14, 7, 17, 14, 38, 21, 26, 13, 27, 15, 23, 7, 26, 16, 16, 23, 12, 30, 9, 38, 14, 12, 7, 7, 19, 8, 28, 11, 16, 15, 9, 18, 9, 15, 11, 16, 13, 25, 6, 8, 20, 7, 20, 21, 20, 12, 8, 7, 17, 17, 39, 30, 14, 43, 14, 19, 7, 10, 3, 9, 23, 28, 14, 29, 7, 19, 14, 8, 26, 7, 3, 16, 6, 19, 29, 25, 27, 40, 23, 7, 27, 16, 17, 23, 31, 26, 44, 9, 14, 27, 30, 19, 31, 42, 16, 26, 16, 25, 19, 7, 40, 13, 7, 25, 21, 37, 39, 11, 3, 39, 38, 10, 15, 21, 11, 23, 27, 19, 12, 4, 15, 37, 22, 20, 21, 21, 11, 22, 16, 25, 19, 20, 17, 19, 12, 17, 13, 21, 19, 13, 11, 12, 9, 36, 21, 19, 30, 21, 5, 27, 10, 20, 16, 28, 14, 28, 38, 8, 25, 5, 11, 18, 26, 14, 5, 13, 20, 34, 5, 30, 10, 31, 36, 14, 26, 17, 19, 8, 15, 25, 17, 16, 7, 26, 33, 18, 26, 21, 16, 6, 30, 23, 15, 11, 26, 29, 38, 26, 28, 17, 58, 13, 18, 34, 34, 8, 42, 47, 24, 47, 27, 13, 23, 51, 25, 25, 12, 19, 32, 21, 17, 16, 25, 32, 20, 30, 14, 21, 28, 30, 30, 30, 57, 15, 41, 14, 29, 16, 13, 35, 26, 6, 13, 34, 17, 24, 23, 28, 5, 41, 18, 13, 16, 11, 12, 5, 18, 33, 34, 11, 27, 5, 3, 23, 11, 11, 17, 21, 37, 6, 42, 16, 9, 18, 11, 23, 40, 6, 27, 22, 18, 24, 13, 28, 12, 37, 15, 14, 8, 28, 28, 20, 14, 6, 5, 6, 17, 39, 10, 25, 18, 21, 43, 10, 4, 15, 14, 5, 20, 16, 16, 10, 12, 33, 14, 33, 19, 32, 9, 18, 9, 31, 15, 5, 26, 5, 4, 16, 29, 25, 34, 16, 6, 28, 33, 11, 14, 7, 26, 6, 16, 10, 35, 12, 22, 13, 20, 13, 16, 17, 13, 7, 29, 22, 22, 14, 8, 23, 17, 23, 22, 11, 8, 43, 18, 29, 38, 17, 27, 33, 21, 13, 11, 24, 8, 32, 18, 46, 21, 30, 32, 29, 40, 33, 33, 37, 34, 31, 17, 17, 8, 20, 10, 20, 11, 33, 10, 18, 21, 6, 26, 12, 19, 10, 16, 9, 9, 4, 15, 4, 11, 15, 13, 10, 13, 12, 13, 16, 24, 12, 11, 21, 15, 25, 17, 21, 13, 11, 31, 6, 12, 12, 13, 13, 18, 7, 10, 20, 21, 19, 16, 16, 10, 33, 24, 38, 23, 16, 7, 8, 15, 9, 3, 11, 17, 17, 31, 29, 38, 8, 14, 18, 20, 13, 6, 10, 10, 30, 30, 9, 19, 21, 14, 12, 6, 23, 41, 18, 24, 29, 11, 8, 5, 29, 20, 16, 10, 4, 8, 14, 3, 10, 6, 13, 17, 24, 12, 30, 44, 27, 33, 26, 14, 34, 26, 25, 17, 12, 35, 53, 21, 12, 22, 21, 23, 27, 16, 22, 36, 21, 12, 22, 41, 11, 31, 7, 25, 21, 10, 34, 17, 19, 9, 7, 26, 48, 7, 14, 43, 16, 11, 23, 19, 12, 20, 16, 33, 27, 19, 16, 20, 2, 14, 11, 9, 16, 12, 23, 15, 8, 7, 19, 4, 12, 13, 16, 21, 22, 23, 8, 11, 26, 10, 23, 15, 32, 22, 28, 10, 26, 26, 19, 21, 33, 15, 11, 17, 15, 17, 18, 19, 16, 26, 10, 28, 38, 20, 22, 12, 9, 15, 18, 30, 9, 18, 31, 26, 10, 14, 13, 4, 7, 21, 15, 12, 14, 12, 18, 23, 23, 27, 51, 7, 16, 12, 7, 8, 11, 14, 15, 18, 4, 12, 22, 20, 30, 29, 21, 34, 33, 10, 49, 23, 7, 12, 17, 20, 20, 9, 36, 34, 23, 21, 17, 14, 20, 22, 24, 26, 39, 31, 26, 19, 12, 14, 22, 28, 19, 60, 49, 17, 33, 11, 33, 27, 15, 17, 19, 34, 31, 10, 22, 9, 17, 22, 14, 9, 12, 11, 5, 6, 17, 12, 21, 9, 33, 40, 12, 19, 30, 19, 22, 43, 29, 31, 19, 27, 10, 36, 26, 21, 28, 27, 13, 52, 18, 21, 11, 6, 13, 13, 10, 23, 9, 20, 33, 11, 17, 23, 22, 23, 14, 16, 15, 30, 47, 16, 21, 31, 16, 9, 28, 43, 34, 11, 46, 30, 28, 23, 30, 18, 25, 21, 22, 24, 9, 13, 29, 18, 26, 20, 5, 31, 22, 15, 6, 8, 17, 42, 32, 16, 43, 21, 3, 9, 22, 10, 24, 8, 24, 22, 31, 30, 14, 19, 7, 23, 17, 45, 7, 22, 14, 42, 28, 38, 21, 21, 16, 48, 39, 9, 30, 5, 5, 6, 6, 12, 11, 9, 7, 10, 18, 11, 14, 11, 10, 23, 23, 21, 8, 10, 19, 6, 13, 23, 21, 5, 9, 5, 18, 11, 9, 12, 19, 3, 7, 12, 13, 4, 9, 8, 9, 2, 11, 30, 31, 18, 8, 25, 10, 5, 19, 9, 20, 7, 15, 15, 12, 6, 30, 13, 12, 31, 24, 17, 13, 16, 15, 22, 21, 4, 10, 6, 18, 13, 9, 15, 7, 15, 26, 24, 15, 17, 10, 25, 12, 31, 29, 16, 16, 23, 13, 28, 16, 6, 29, 24, 36, 33, 21, 14, 6, 16, 9, 19, 22, 40, 25, 20, 8, 28, 22, 27, 25, 30, 21, 14, 18, 43, 25, 29, 11, 28, 30, 9, 26, 26, 51, 9, 20, 8, 14, 17, 11, 19, 17, 14, 28, 21, 21, 28, 24, 5, 27, 19, 48, 18, 8, 17, 36, 28, 45, 22, 13, 13, 40, 35, 16, 54, 20, 8, 51, 40, 32, 18, 22, 22, 18, 17, 21, 23, 15, 21, 13, 22, 11, 31, 25, 13]\n",
            "3005\n"
          ],
          "name": "stdout"
        }
      ]
    },
    {
      "cell_type": "code",
      "metadata": {
        "colab": {
          "base_uri": "https://localhost:8080/"
        },
        "id": "J4t82xWXSuvt",
        "outputId": "4da76f8f-a574-4266-c9f6-d40820b50ffb"
      },
      "source": [
        "en_min = min(list_len)\n",
        "en_max = max(list_len)\n",
        "en_mean = np.mean(list_len)\n",
        "en_median = np.median(list_len)\n",
        "\n",
        "print(len(list_len))\n",
        "print(en_min, en_max, en_mean, en_median)"
      ],
      "execution_count": null,
      "outputs": [
        {
          "output_type": "stream",
          "text": [
            "3005\n",
            "1 76 18.223627287853578 17.0\n"
          ],
          "name": "stdout"
        }
      ]
    },
    {
      "cell_type": "code",
      "metadata": {
        "colab": {
          "base_uri": "https://localhost:8080/",
          "height": 295
        },
        "id": "CuJ6rBvNSutI",
        "outputId": "6404a160-7f5e-4156-9ec1-425011ed9518"
      },
      "source": [
        "plt.hist(list_len, bins=20)\n",
        "plt.title(\"Plotted sentence length of English sentences (test set)\")\n",
        "plt.xlabel('Number of words')\n",
        "plt.ylabel('Number of sentences')\n",
        "plt.savefig('.../testset_en_histogram.pdf')\n",
        "plt.show()"
      ],
      "execution_count": null,
      "outputs": [
        {
          "output_type": "display_data",
          "data": {
            "image/png": "[encoded data removed]",
            "text/plain": [
              "<Figure size 432x288 with 1 Axes>"
            ]
          },
          "metadata": {
            "tags": [],
            "needs_background": "light"
          }
        }
      ]
    }
  ]
}