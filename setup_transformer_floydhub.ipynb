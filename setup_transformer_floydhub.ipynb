{
  "nbformat": 4,
  "nbformat_minor": 0,
  "metadata": {
    "colab": {
      "name": "setup_transformer_floydhub.ipynb",
      "provenance": [],
      "collapsed_sections": []
    },
    "kernelspec": {
      "name": "python3",
      "display_name": "Python 3"
    },
    "language_info": {
      "name": "python"
    }
  },
  "cells": [
    {
      "cell_type": "code",
      "metadata": {
        "id": "0QPRXo5tob41"
      },
      "source": [
        "# PREPARE FLOYDHUB WORKSPACE  \n",
        "\n",
        "# download this repo\n",
        "git clone https://github.com/tensorflow/tensor2tensor.git\n",
        "\n",
        "# change the necessary codes with:\n",
        "# import tensorflow.compat.v1 as tf\n",
        "# tf.disable_v2_behavior()\n",
        "\n",
        "# then:\n",
        "cd tensor2tensor\n",
        "pip install ."
      ],
      "execution_count": null,
      "outputs": []
    },
    {
      "cell_type": "code",
      "metadata": {
        "id": "MWKcQZaHPaDF"
      },
      "source": [
        "# get dataset  \n",
        "\n",
        "t2t-datagen --problem=translate_encs_wmt32k --data_dir=tensor2tensor/t2t_data --tmp_dir=tensor2tensor/t2t_datagen"
      ],
      "execution_count": null,
      "outputs": []
    },
    {
      "cell_type": "code",
      "metadata": {
        "id": "0j0WAONRsPlj"
      },
      "source": [
        "# train model\n",
        "\n",
        "# transformer h1\n",
        "t2t-trainer --model=transformer --problem=translate_encs_wmt32k --hparams_set=transformer_h1 --hparams='batch_size=2048' --train_steps=100000 --data_dir=tensor2tensor/t2t_data --output_dir=tensor2tensor/t2t_train/translate_encs_wmt32k/transformer-transformer_h1\n",
        "\n",
        "# transformer h4\n",
        "t2t-trainer --model=transformer --problem=translate_encs_wmt32k --hparams_set=transformer_h4 --hparams='batch_size=2048' --train_steps=100000 --data_dir=tensor2tensor/t2t_data --output_dir=tensor2tensor/t2t_train/translate_encs_wmt32k/transformer-transformer_h4\n",
        "\n",
        "# transformer h8 (baseline)\n",
        "t2t-trainer --model=transformer --problem=translate_encs_wmt32k --hparams_set=transformer_base --hparams='batch_size=2048' --train_steps=100000 --data_dir=tensor2tensor/t2t_data --output_dir=tensor2tensor/t2t_train/translate_encs_wmt32k/transformer-transformer_base\n"
      ],
      "execution_count": null,
      "outputs": []
    },
    {
      "cell_type": "code",
      "metadata": {
        "id": "FDBtDRDF1xVM"
      },
      "source": [
        "# decode\n",
        "\n",
        "# imput the following commands to create the necessary files:\n",
        "# DECODE_FILE=tensor2tensor/t2t_data/decode_this.txt \n",
        "# echo \"Hello\" >> $DECODE_FILE\n",
        "# echo -e \"Ahoj\" > ref-translation.cs\n",
        "\n",
        "# input the following hyperparameters for decoding:\n",
        "# BEAM_SIZE=4\n",
        "# ALPHA=0.6\n",
        "\n",
        "# transformer h1\n",
        "t2t-decoder --data_dir=tensor2tensor/t2t_data --problem=translate_encs_wmt32k --model=transformer --hparams_set=transformer_h1 --hparams='batch_size=2048' --output_dir=tensor2tensor/t2t_train/translate_encs_wmt32k/transformer-transformer_h1 --decode_hparams=\"beam_size=$BEAM_SIZE,alpha=$ALPHA\" --decode_from_file=$DECODE_FILE --decode_to_file=translation.en\n",
        "\n",
        "# transformer h4\n",
        "t2t-decoder --data_dir=tensor2tensor/t2t_data --problem=translate_encs_wmt32k --model=transformer --hparams_set=transformer_h4 --hparams='batch_size=2048' --output_dir=tensor2tensor/t2t_train/translate_encs_wmt32k/transformer-transformer_h4 --decode_hparams=\"beam_size=$BEAM_SIZE,alpha=$ALPHA\" --decode_from_file=$DECODE_FILE --decode_to_file=translation.en\n",
        "\n",
        "# transformer h8 (base)\n",
        "t2t-decoder --data_dir=tensor2tensor/t2t_data --problem=translate_encs_wmt32k --model=transformer --hparams_set=transformer_base --hparams='batch_size=2048' --output_dir=tensor2tensor/t2t_train/translate_encs_wmt32k/transformer-transformer_base --decode_hparams=\"beam_size=$BEAM_SIZE,alpha=$ALPHA\" --decode_from_file=$DECODE_FILE --decode_to_file=translation.en"
      ],
      "execution_count": null,
      "outputs": []
    },
    {
      "cell_type": "code",
      "metadata": {
        "id": "ZjRRFGkSaHXY"
      },
      "source": [
        "# compute BLEU \n",
        "\n",
        "t2t-bleu --translation=translation.en --reference=ref-translation.cs"
      ],
      "execution_count": null,
      "outputs": []
    }
  ]
}